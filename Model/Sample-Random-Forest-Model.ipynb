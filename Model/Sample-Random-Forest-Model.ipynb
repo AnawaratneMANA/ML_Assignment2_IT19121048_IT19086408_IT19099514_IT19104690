{
 "cells": [
  {
   "cell_type": "markdown",
   "source": [
    "## Read Dataset"
   ],
   "metadata": {
    "collapsed": false,
    "pycharm": {
     "name": "#%% md\n"
    }
   }
  },
  {
   "cell_type": "code",
   "execution_count": 1949,
   "outputs": [
    {
     "data": {
      "text/plain": "  Company   TypeName  Ram  OpSys  Weight  TouchScreen  IPS         PPI  \\\n0   Apple  Ultrabook    8    Mac    1.37            0    1  226.983005   \n1   Apple  Ultrabook    8    Mac    1.34            0    0  127.677940   \n2      HP   Notebook    8  Other    1.86            0    0  141.211998   \n3   Apple  Ultrabook   16    Mac    1.83            0    1  220.534624   \n4   Apple  Ultrabook    8    Mac    1.37            0    1  226.983005   \n\n        CPU_name  HDD  SSD Gpu brand        Price  \n0  Intel Core i5    0  128     Intel   71378.6832  \n1  Intel Core i5    0    0     Intel   47895.5232  \n2  Intel Core i5    0  256     Intel   30636.0000  \n3  Intel Core i7    0  512       AMD  135195.3360  \n4  Intel Core i5    0  256     Intel   96095.8080  ",
      "text/html": "<div>\n<style scoped>\n    .dataframe tbody tr th:only-of-type {\n        vertical-align: middle;\n    }\n\n    .dataframe tbody tr th {\n        vertical-align: top;\n    }\n\n    .dataframe thead th {\n        text-align: right;\n    }\n</style>\n<table border=\"1\" class=\"dataframe\">\n  <thead>\n    <tr style=\"text-align: right;\">\n      <th></th>\n      <th>Company</th>\n      <th>TypeName</th>\n      <th>Ram</th>\n      <th>OpSys</th>\n      <th>Weight</th>\n      <th>TouchScreen</th>\n      <th>IPS</th>\n      <th>PPI</th>\n      <th>CPU_name</th>\n      <th>HDD</th>\n      <th>SSD</th>\n      <th>Gpu brand</th>\n      <th>Price</th>\n    </tr>\n  </thead>\n  <tbody>\n    <tr>\n      <th>0</th>\n      <td>Apple</td>\n      <td>Ultrabook</td>\n      <td>8</td>\n      <td>Mac</td>\n      <td>1.37</td>\n      <td>0</td>\n      <td>1</td>\n      <td>226.983005</td>\n      <td>Intel Core i5</td>\n      <td>0</td>\n      <td>128</td>\n      <td>Intel</td>\n      <td>71378.6832</td>\n    </tr>\n    <tr>\n      <th>1</th>\n      <td>Apple</td>\n      <td>Ultrabook</td>\n      <td>8</td>\n      <td>Mac</td>\n      <td>1.34</td>\n      <td>0</td>\n      <td>0</td>\n      <td>127.677940</td>\n      <td>Intel Core i5</td>\n      <td>0</td>\n      <td>0</td>\n      <td>Intel</td>\n      <td>47895.5232</td>\n    </tr>\n    <tr>\n      <th>2</th>\n      <td>HP</td>\n      <td>Notebook</td>\n      <td>8</td>\n      <td>Other</td>\n      <td>1.86</td>\n      <td>0</td>\n      <td>0</td>\n      <td>141.211998</td>\n      <td>Intel Core i5</td>\n      <td>0</td>\n      <td>256</td>\n      <td>Intel</td>\n      <td>30636.0000</td>\n    </tr>\n    <tr>\n      <th>3</th>\n      <td>Apple</td>\n      <td>Ultrabook</td>\n      <td>16</td>\n      <td>Mac</td>\n      <td>1.83</td>\n      <td>0</td>\n      <td>1</td>\n      <td>220.534624</td>\n      <td>Intel Core i7</td>\n      <td>0</td>\n      <td>512</td>\n      <td>AMD</td>\n      <td>135195.3360</td>\n    </tr>\n    <tr>\n      <th>4</th>\n      <td>Apple</td>\n      <td>Ultrabook</td>\n      <td>8</td>\n      <td>Mac</td>\n      <td>1.37</td>\n      <td>0</td>\n      <td>1</td>\n      <td>226.983005</td>\n      <td>Intel Core i5</td>\n      <td>0</td>\n      <td>256</td>\n      <td>Intel</td>\n      <td>96095.8080</td>\n    </tr>\n  </tbody>\n</table>\n</div>"
     },
     "execution_count": 1949,
     "metadata": {},
     "output_type": "execute_result"
    }
   ],
   "source": [
    "import pandas as pd, numpy as np\n",
    "import matplotlib.pyplot as plt, seaborn as sns\n",
    "%matplotlib inline\n",
    "import seaborn as sn\n",
    "df = pd.read_csv('../traineddataUpdate.csv')\n",
    "df.head()"
   ],
   "metadata": {
    "collapsed": false,
    "pycharm": {
     "name": "#%%\n"
    }
   }
  },
  {
   "cell_type": "code",
   "execution_count": 1950,
   "outputs": [
    {
     "data": {
      "text/plain": "(1302, 13)"
     },
     "execution_count": 1950,
     "metadata": {},
     "output_type": "execute_result"
    }
   ],
   "source": [
    "df.shape"
   ],
   "metadata": {
    "collapsed": false,
    "pycharm": {
     "name": "#%%\n"
    }
   }
  },
  {
   "cell_type": "code",
   "execution_count": 1951,
   "outputs": [
    {
     "data": {
      "text/plain": "(array([ 0,  1,  2,  3,  4,  5,  6,  7,  8,  9, 10, 11, 12, 13, 14, 15, 16,\n        17, 18]),\n [Text(0, 0, 'Apple'),\n  Text(1, 0, 'HP'),\n  Text(2, 0, 'Acer'),\n  Text(3, 0, 'Asus'),\n  Text(4, 0, 'Dell'),\n  Text(5, 0, 'Lenovo'),\n  Text(6, 0, 'Chuwi'),\n  Text(7, 0, 'MSI'),\n  Text(8, 0, 'Microsoft'),\n  Text(9, 0, 'Toshiba'),\n  Text(10, 0, 'Huawei'),\n  Text(11, 0, 'Xiaomi'),\n  Text(12, 0, 'Vero'),\n  Text(13, 0, 'Razer'),\n  Text(14, 0, 'Mediacom'),\n  Text(15, 0, 'Samsung'),\n  Text(16, 0, 'Google'),\n  Text(17, 0, 'Fujitsu'),\n  Text(18, 0, 'LG')])"
     },
     "execution_count": 1951,
     "metadata": {},
     "output_type": "execute_result"
    },
    {
     "data": {
      "text/plain": "<Figure size 432x288 with 1 Axes>",
      "image/png": "[encoded data removed]"
     },
     "metadata": {
      "needs_background": "light"
     },
     "output_type": "display_data"
    }
   ],
   "source": [
    "sn.barplot(x = df['Company'],y = df['Price'])\n",
    "plt.xticks(rotation = 'vertical')"
   ],
   "metadata": {
    "collapsed": false,
    "pycharm": {
     "name": "#%%\n"
    }
   }
  },
  {
   "cell_type": "code",
   "execution_count": 1952,
   "outputs": [
    {
     "name": "stderr",
     "output_type": "stream",
     "text": [
      "C:\\Users\\salitha\\anaconda3\\lib\\site-packages\\seaborn\\_decorators.py:36: FutureWarning: Pass the following variable as a keyword arg: x. From version 0.12, the only valid positional argument will be `data`, and passing other arguments without an explicit keyword will result in an error or misinterpretation.\n",
      "  warnings.warn(\n"
     ]
    },
    {
     "data": {
      "text/plain": "(array([0, 1, 2, 3, 4, 5]),\n [Text(0, 0, 'Ultrabook'),\n  Text(1, 0, 'Notebook'),\n  Text(2, 0, 'Netbook'),\n  Text(3, 0, 'Gaming'),\n  Text(4, 0, '2 in 1 Convertible'),\n  Text(5, 0, 'Workstation')])"
     },
     "execution_count": 1952,
     "metadata": {},
     "output_type": "execute_result"
    },
    {
     "data": {
      "text/plain": "<Figure size 432x288 with 1 Axes>",
      "image/png": "[encoded data removed]"
     },
     "metadata": {
      "needs_background": "light"
     },
     "output_type": "display_data"
    }
   ],
   "source": [
    "sn.countplot(df['TypeName'])\n",
    "plt.xticks(rotation = 'vertical')"
   ],
   "metadata": {
    "collapsed": false,
    "pycharm": {
     "name": "#%%\n"
    }
   }
  },
  {
   "cell_type": "code",
   "execution_count": 1953,
   "outputs": [
    {
     "name": "stderr",
     "output_type": "stream",
     "text": [
      "C:\\Users\\salitha\\anaconda3\\lib\\site-packages\\seaborn\\_decorators.py:36: FutureWarning: Pass the following variable as a keyword arg: x. From version 0.12, the only valid positional argument will be `data`, and passing other arguments without an explicit keyword will result in an error or misinterpretation.\n",
      "  warnings.warn(\n"
     ]
    },
    {
     "data": {
      "text/plain": "<Figure size 432x288 with 1 Axes>",
      "image/png": "[encoded data removed]"
     },
     "metadata": {
      "needs_background": "light"
     },
     "output_type": "display_data"
    }
   ],
   "source": [
    "sn.countplot(df['Gpu brand'])\n",
    "plt.show()"
   ],
   "metadata": {
    "collapsed": false,
    "pycharm": {
     "name": "#%%\n"
    }
   }
  },
  {
   "cell_type": "code",
   "execution_count": 1954,
   "outputs": [],
   "source": [
    "cpu_manufact = df['CPU_name'].str.split(' ',n = 1,expand=True)\n",
    "cpu_manufact.head()\n",
    "df['CPU_manufacture'] = cpu_manufact[0]"
   ],
   "metadata": {
    "collapsed": false,
    "pycharm": {
     "name": "#%%\n"
    }
   }
  },
  {
   "cell_type": "code",
   "execution_count": 1955,
   "outputs": [
    {
     "data": {
      "text/plain": "  Company   TypeName  Ram  OpSys  Weight  TouchScreen  IPS         PPI  \\\n0   Apple  Ultrabook    8    Mac    1.37            0    1  226.983005   \n1   Apple  Ultrabook    8    Mac    1.34            0    0  127.677940   \n2      HP   Notebook    8  Other    1.86            0    0  141.211998   \n3   Apple  Ultrabook   16    Mac    1.83            0    1  220.534624   \n4   Apple  Ultrabook    8    Mac    1.37            0    1  226.983005   \n\n        CPU_name  HDD  SSD Gpu brand        Price CPU_manufacture  \n0  Intel Core i5    0  128     Intel   71378.6832           Intel  \n1  Intel Core i5    0    0     Intel   47895.5232           Intel  \n2  Intel Core i5    0  256     Intel   30636.0000           Intel  \n3  Intel Core i7    0  512       AMD  135195.3360           Intel  \n4  Intel Core i5    0  256     Intel   96095.8080           Intel  ",
      "text/html": "<div>\n<style scoped>\n    .dataframe tbody tr th:only-of-type {\n        vertical-align: middle;\n    }\n\n    .dataframe tbody tr th {\n        vertical-align: top;\n    }\n\n    .dataframe thead th {\n        text-align: right;\n    }\n</style>\n<table border=\"1\" class=\"dataframe\">\n  <thead>\n    <tr style=\"text-align: right;\">\n      <th></th>\n      <th>Company</th>\n      <th>TypeName</th>\n      <th>Ram</th>\n      <th>OpSys</th>\n      <th>Weight</th>\n      <th>TouchScreen</th>\n      <th>IPS</th>\n      <th>PPI</th>\n      <th>CPU_name</th>\n      <th>HDD</th>\n      <th>SSD</th>\n      <th>Gpu brand</th>\n      <th>Price</th>\n      <th>CPU_manufacture</th>\n    </tr>\n  </thead>\n  <tbody>\n    <tr>\n      <th>0</th>\n      <td>Apple</td>\n      <td>Ultrabook</td>\n      <td>8</td>\n      <td>Mac</td>\n      <td>1.37</td>\n      <td>0</td>\n      <td>1</td>\n      <td>226.983005</td>\n      <td>Intel Core i5</td>\n      <td>0</td>\n      <td>128</td>\n      <td>Intel</td>\n      <td>71378.6832</td>\n      <td>Intel</td>\n    </tr>\n    <tr>\n      <th>1</th>\n      <td>Apple</td>\n      <td>Ultrabook</td>\n      <td>8</td>\n      <td>Mac</td>\n      <td>1.34</td>\n      <td>0</td>\n      <td>0</td>\n      <td>127.677940</td>\n      <td>Intel Core i5</td>\n      <td>0</td>\n      <td>0</td>\n      <td>Intel</td>\n      <td>47895.5232</td>\n      <td>Intel</td>\n    </tr>\n    <tr>\n      <th>2</th>\n      <td>HP</td>\n      <td>Notebook</td>\n      <td>8</td>\n      <td>Other</td>\n      <td>1.86</td>\n      <td>0</td>\n      <td>0</td>\n      <td>141.211998</td>\n      <td>Intel Core i5</td>\n      <td>0</td>\n      <td>256</td>\n      <td>Intel</td>\n      <td>30636.0000</td>\n      <td>Intel</td>\n    </tr>\n    <tr>\n      <th>3</th>\n      <td>Apple</td>\n      <td>Ultrabook</td>\n      <td>16</td>\n      <td>Mac</td>\n      <td>1.83</td>\n      <td>0</td>\n      <td>1</td>\n      <td>220.534624</td>\n      <td>Intel Core i7</td>\n      <td>0</td>\n      <td>512</td>\n      <td>AMD</td>\n      <td>135195.3360</td>\n      <td>Intel</td>\n    </tr>\n    <tr>\n      <th>4</th>\n      <td>Apple</td>\n      <td>Ultrabook</td>\n      <td>8</td>\n      <td>Mac</td>\n      <td>1.37</td>\n      <td>0</td>\n      <td>1</td>\n      <td>226.983005</td>\n      <td>Intel Core i5</td>\n      <td>0</td>\n      <td>256</td>\n      <td>Intel</td>\n      <td>96095.8080</td>\n      <td>Intel</td>\n    </tr>\n  </tbody>\n</table>\n</div>"
     },
     "execution_count": 1955,
     "metadata": {},
     "output_type": "execute_result"
    }
   ],
   "source": [
    "df.head()"
   ],
   "metadata": {
    "collapsed": false,
    "pycharm": {
     "name": "#%%\n"
    }
   }
  },
  {
   "cell_type": "code",
   "execution_count": 1956,
   "outputs": [
    {
     "data": {
      "text/plain": "<AxesSubplot:ylabel='None'>"
     },
     "execution_count": 1956,
     "metadata": {},
     "output_type": "execute_result"
    },
    {
     "data": {
      "text/plain": "<Figure size 432x288 with 1 Axes>",
      "image/png": "[encoded data removed]"
     },
     "metadata": {},
     "output_type": "display_data"
    }
   ],
   "source": [
    "cpu_value = df.value_counts('CPU_manufacture')\n",
    "cpu_value.sort_values().plot(kind='pie')"
   ],
   "metadata": {
    "collapsed": false,
    "pycharm": {
     "name": "#%%\n"
    }
   }
  },
  {
   "cell_type": "code",
   "execution_count": 1957,
   "outputs": [
    {
     "name": "stdout",
     "output_type": "stream",
     "text": [
      "CPU_manufacture\n",
      "Intel    1086\n",
      "Other     154\n",
      "AMD        62\n",
      "dtype: int64\n"
     ]
    }
   ],
   "source": [
    "CPU_manufacture_type = df.value_counts(\"CPU_manufacture\")\n",
    "print(CPU_manufacture_type)"
   ],
   "metadata": {
    "collapsed": false,
    "pycharm": {
     "name": "#%%\n"
    }
   }
  },
  {
   "cell_type": "code",
   "execution_count": 1958,
   "outputs": [
    {
     "data": {
      "text/plain": "  Company   TypeName  Ram  OpSys  Weight  TouchScreen  IPS         PPI  \\\n0   Apple  Ultrabook    8    Mac    1.37            0    1  226.983005   \n1   Apple  Ultrabook    8    Mac    1.34            0    0  127.677940   \n2      HP   Notebook    8  Other    1.86            0    0  141.211998   \n3   Apple  Ultrabook   16    Mac    1.83            0    1  220.534624   \n4   Apple  Ultrabook    8    Mac    1.37            0    1  226.983005   \n\n        CPU_name  HDD  SSD Gpu brand        Price CPU_manufacture  \\\n0  Intel Core i5    0  128     Intel   71378.6832           Intel   \n1  Intel Core i5    0    0     Intel   47895.5232           Intel   \n2  Intel Core i5    0  256     Intel   30636.0000           Intel   \n3  Intel Core i7    0  512       AMD  135195.3360           Intel   \n4  Intel Core i5    0  256     Intel   96095.8080           Intel   \n\n   CPU_manufacture_type  \n0                     0  \n1                     0  \n2                     0  \n3                     0  \n4                     0  ",
      "text/html": "<div>\n<style scoped>\n    .dataframe tbody tr th:only-of-type {\n        vertical-align: middle;\n    }\n\n    .dataframe tbody tr th {\n        vertical-align: top;\n    }\n\n    .dataframe thead th {\n        text-align: right;\n    }\n</style>\n<table border=\"1\" class=\"dataframe\">\n  <thead>\n    <tr style=\"text-align: right;\">\n      <th></th>\n      <th>Company</th>\n      <th>TypeName</th>\n      <th>Ram</th>\n      <th>OpSys</th>\n      <th>Weight</th>\n      <th>TouchScreen</th>\n      <th>IPS</th>\n      <th>PPI</th>\n      <th>CPU_name</th>\n      <th>HDD</th>\n      <th>SSD</th>\n      <th>Gpu brand</th>\n      <th>Price</th>\n      <th>CPU_manufacture</th>\n      <th>CPU_manufacture_type</th>\n    </tr>\n  </thead>\n  <tbody>\n    <tr>\n      <th>0</th>\n      <td>Apple</td>\n      <td>Ultrabook</td>\n      <td>8</td>\n      <td>Mac</td>\n      <td>1.37</td>\n      <td>0</td>\n      <td>1</td>\n      <td>226.983005</td>\n      <td>Intel Core i5</td>\n      <td>0</td>\n      <td>128</td>\n      <td>Intel</td>\n      <td>71378.6832</td>\n      <td>Intel</td>\n      <td>0</td>\n    </tr>\n    <tr>\n      <th>1</th>\n      <td>Apple</td>\n      <td>Ultrabook</td>\n      <td>8</td>\n      <td>Mac</td>\n      <td>1.34</td>\n      <td>0</td>\n      <td>0</td>\n      <td>127.677940</td>\n      <td>Intel Core i5</td>\n      <td>0</td>\n      <td>0</td>\n      <td>Intel</td>\n      <td>47895.5232</td>\n      <td>Intel</td>\n      <td>0</td>\n    </tr>\n    <tr>\n      <th>2</th>\n      <td>HP</td>\n      <td>Notebook</td>\n      <td>8</td>\n      <td>Other</td>\n      <td>1.86</td>\n      <td>0</td>\n      <td>0</td>\n      <td>141.211998</td>\n      <td>Intel Core i5</td>\n      <td>0</td>\n      <td>256</td>\n      <td>Intel</td>\n      <td>30636.0000</td>\n      <td>Intel</td>\n      <td>0</td>\n    </tr>\n    <tr>\n      <th>3</th>\n      <td>Apple</td>\n      <td>Ultrabook</td>\n      <td>16</td>\n      <td>Mac</td>\n      <td>1.83</td>\n      <td>0</td>\n      <td>1</td>\n      <td>220.534624</td>\n      <td>Intel Core i7</td>\n      <td>0</td>\n      <td>512</td>\n      <td>AMD</td>\n      <td>135195.3360</td>\n      <td>Intel</td>\n      <td>0</td>\n    </tr>\n    <tr>\n      <th>4</th>\n      <td>Apple</td>\n      <td>Ultrabook</td>\n      <td>8</td>\n      <td>Mac</td>\n      <td>1.37</td>\n      <td>0</td>\n      <td>1</td>\n      <td>226.983005</td>\n      <td>Intel Core i5</td>\n      <td>0</td>\n      <td>256</td>\n      <td>Intel</td>\n      <td>96095.8080</td>\n      <td>Intel</td>\n      <td>0</td>\n    </tr>\n  </tbody>\n</table>\n</div>"
     },
     "execution_count": 1958,
     "metadata": {},
     "output_type": "execute_result"
    }
   ],
   "source": [
    "def type_convert_numeric1():\n",
    "    df['CPU_manufacture_type'] = np.select(\n",
    "        condlist=[\n",
    "            df['CPU_manufacture'] == \"Intel\",\n",
    "            df['CPU_manufacture'] == \"Other\",\n",
    "            df['CPU_manufacture'] == \"AMD\",\n",
    "        ],\n",
    "        choicelist=[\n",
    "            0,\n",
    "            1,\n",
    "            2\n",
    "        ],\n",
    "        default=0\n",
    "    )\n",
    "\n",
    "listTypes = [\"Intel\", \"Other\", \"AMD\"]\n",
    "for value in listTypes:\n",
    "    type_convert_numeric1()\n",
    "\n",
    "df.head()"
   ],
   "metadata": {
    "collapsed": false,
    "pycharm": {
     "name": "#%%\n"
    }
   }
  },
  {
   "cell_type": "code",
   "execution_count": 1959,
   "outputs": [
    {
     "name": "stdout",
     "output_type": "stream",
     "text": [
      "TypeName\n",
      "Notebook              727\n",
      "Gaming                205\n",
      "Ultrabook             196\n",
      "2 in 1 Convertible    120\n",
      "Workstation            29\n",
      "Netbook                25\n",
      "dtype: int64\n"
     ]
    }
   ],
   "source": [
    "notebook_type = df.value_counts(\"TypeName\")\n",
    "print(notebook_type)\n"
   ],
   "metadata": {
    "collapsed": false,
    "pycharm": {
     "name": "#%%\n"
    }
   }
  },
  {
   "cell_type": "code",
   "execution_count": 1960,
   "outputs": [
    {
     "data": {
      "text/plain": "  Company   TypeName  Ram  OpSys  Weight  TouchScreen  IPS         PPI  \\\n0   Apple  Ultrabook    8    Mac    1.37            0    1  226.983005   \n1   Apple  Ultrabook    8    Mac    1.34            0    0  127.677940   \n2      HP   Notebook    8  Other    1.86            0    0  141.211998   \n3   Apple  Ultrabook   16    Mac    1.83            0    1  220.534624   \n4   Apple  Ultrabook    8    Mac    1.37            0    1  226.983005   \n\n        CPU_name  HDD  SSD Gpu brand        Price CPU_manufacture  \\\n0  Intel Core i5    0  128     Intel   71378.6832           Intel   \n1  Intel Core i5    0    0     Intel   47895.5232           Intel   \n2  Intel Core i5    0  256     Intel   30636.0000           Intel   \n3  Intel Core i7    0  512       AMD  135195.3360           Intel   \n4  Intel Core i5    0  256     Intel   96095.8080           Intel   \n\n   CPU_manufacture_type  Type  \n0                     0     2  \n1                     0     2  \n2                     0     0  \n3                     0     2  \n4                     0     2  ",
      "text/html": "<div>\n<style scoped>\n    .dataframe tbody tr th:only-of-type {\n        vertical-align: middle;\n    }\n\n    .dataframe tbody tr th {\n        vertical-align: top;\n    }\n\n    .dataframe thead th {\n        text-align: right;\n    }\n</style>\n<table border=\"1\" class=\"dataframe\">\n  <thead>\n    <tr style=\"text-align: right;\">\n      <th></th>\n      <th>Company</th>\n      <th>TypeName</th>\n      <th>Ram</th>\n      <th>OpSys</th>\n      <th>Weight</th>\n      <th>TouchScreen</th>\n      <th>IPS</th>\n      <th>PPI</th>\n      <th>CPU_name</th>\n      <th>HDD</th>\n      <th>SSD</th>\n      <th>Gpu brand</th>\n      <th>Price</th>\n      <th>CPU_manufacture</th>\n      <th>CPU_manufacture_type</th>\n      <th>Type</th>\n    </tr>\n  </thead>\n  <tbody>\n    <tr>\n      <th>0</th>\n      <td>Apple</td>\n      <td>Ultrabook</td>\n      <td>8</td>\n      <td>Mac</td>\n      <td>1.37</td>\n      <td>0</td>\n      <td>1</td>\n      <td>226.983005</td>\n      <td>Intel Core i5</td>\n      <td>0</td>\n      <td>128</td>\n      <td>Intel</td>\n      <td>71378.6832</td>\n      <td>Intel</td>\n      <td>0</td>\n      <td>2</td>\n    </tr>\n    <tr>\n      <th>1</th>\n      <td>Apple</td>\n      <td>Ultrabook</td>\n      <td>8</td>\n      <td>Mac</td>\n      <td>1.34</td>\n      <td>0</td>\n      <td>0</td>\n      <td>127.677940</td>\n      <td>Intel Core i5</td>\n      <td>0</td>\n      <td>0</td>\n      <td>Intel</td>\n      <td>47895.5232</td>\n      <td>Intel</td>\n      <td>0</td>\n      <td>2</td>\n    </tr>\n    <tr>\n      <th>2</th>\n      <td>HP</td>\n      <td>Notebook</td>\n      <td>8</td>\n      <td>Other</td>\n      <td>1.86</td>\n      <td>0</td>\n      <td>0</td>\n      <td>141.211998</td>\n      <td>Intel Core i5</td>\n      <td>0</td>\n      <td>256</td>\n      <td>Intel</td>\n      <td>30636.0000</td>\n      <td>Intel</td>\n      <td>0</td>\n      <td>0</td>\n    </tr>\n    <tr>\n      <th>3</th>\n      <td>Apple</td>\n      <td>Ultrabook</td>\n      <td>16</td>\n      <td>Mac</td>\n      <td>1.83</td>\n      <td>0</td>\n      <td>1</td>\n      <td>220.534624</td>\n      <td>Intel Core i7</td>\n      <td>0</td>\n      <td>512</td>\n      <td>AMD</td>\n      <td>135195.3360</td>\n      <td>Intel</td>\n      <td>0</td>\n      <td>2</td>\n    </tr>\n    <tr>\n      <th>4</th>\n      <td>Apple</td>\n      <td>Ultrabook</td>\n      <td>8</td>\n      <td>Mac</td>\n      <td>1.37</td>\n      <td>0</td>\n      <td>1</td>\n      <td>226.983005</td>\n      <td>Intel Core i5</td>\n      <td>0</td>\n      <td>256</td>\n      <td>Intel</td>\n      <td>96095.8080</td>\n      <td>Intel</td>\n      <td>0</td>\n      <td>2</td>\n    </tr>\n  </tbody>\n</table>\n</div>"
     },
     "execution_count": 1960,
     "metadata": {},
     "output_type": "execute_result"
    }
   ],
   "source": [
    "def type_convert_numeric():\n",
    "    df['Type'] = np.select(\n",
    "        condlist=[\n",
    "            df['TypeName'] == \"Notebook\",\n",
    "            df['TypeName'] == \"Gaming\",\n",
    "            df['TypeName'] == \"Ultrabook\",\n",
    "            df['TypeName'] == \"2 in 1 Convertible\",\n",
    "            df['TypeName'] == \"Workstation\",\n",
    "            df['TypeName'] == \"Netbook\",\n",
    "        ],\n",
    "        choicelist=[\n",
    "            0,\n",
    "            1,\n",
    "            2,\n",
    "            3,\n",
    "            4,\n",
    "            5\n",
    "        ],\n",
    "        default=0\n",
    "    )\n",
    "\n",
    "listTypes = [\"Notebook\", \"Gaming\", \"Ultrabook\", \"2 in 1 Convertible\", \"Workstation\", \"Netbook\"]\n",
    "for value in listTypes:\n",
    "    type_convert_numeric()\n",
    "\n",
    "df.head()"
   ],
   "metadata": {
    "collapsed": false,
    "pycharm": {
     "name": "#%%\n"
    }
   }
  },
  {
   "cell_type": "code",
   "execution_count": 1961,
   "outputs": [
    {
     "name": "stdout",
     "output_type": "stream",
     "text": [
      "Company\n",
      "Dell         297\n",
      "Lenovo       297\n",
      "HP           274\n",
      "Asus         158\n",
      "Acer         103\n",
      "MSI           54\n",
      "Toshiba       48\n",
      "Apple         21\n",
      "Samsung        8\n",
      "Razer          7\n",
      "Mediacom       7\n",
      "Microsoft      6\n",
      "Vero           4\n",
      "Xiaomi         4\n",
      "Google         3\n",
      "Fujitsu        3\n",
      "Chuwi          3\n",
      "LG             3\n",
      "Huawei         2\n",
      "dtype: int64\n"
     ]
    }
   ],
   "source": [
    "company = df.value_counts(\"Company\")\n",
    "print(company)"
   ],
   "metadata": {
    "collapsed": false,
    "pycharm": {
     "name": "#%%\n"
    }
   }
  },
  {
   "cell_type": "code",
   "execution_count": 1962,
   "outputs": [
    {
     "data": {
      "text/plain": "0"
     },
     "execution_count": 1962,
     "metadata": {},
     "output_type": "execute_result"
    }
   ],
   "source": [
    "df.isnull().sum().sum()"
   ],
   "metadata": {
    "collapsed": false,
    "pycharm": {
     "name": "#%%\n"
    }
   }
  },
  {
   "cell_type": "code",
   "execution_count": 1963,
   "outputs": [
    {
     "data": {
      "text/plain": "<AxesSubplot:xlabel='Price', ylabel='Count'>"
     },
     "execution_count": 1963,
     "metadata": {},
     "output_type": "execute_result"
    },
    {
     "data": {
      "text/plain": "<Figure size 432x288 with 1 Axes>",
      "image/png": "[encoded data removed]"
     },
     "metadata": {
      "needs_background": "light"
     },
     "output_type": "display_data"
    }
   ],
   "source": [
    "sn.histplot(df['Price'],color='red')"
   ],
   "metadata": {
    "collapsed": false,
    "pycharm": {
     "name": "#%%\n"
    }
   }
  },
  {
   "cell_type": "markdown",
   "source": [
    "# Vizualize data"
   ],
   "metadata": {
    "collapsed": false,
    "pycharm": {
     "name": "#%% md\n"
    }
   }
  },
  {
   "cell_type": "markdown",
   "source": [
    "## Define X and Y cordinates"
   ],
   "metadata": {
    "collapsed": false,
    "pycharm": {
     "name": "#%% md\n"
    }
   }
  },
  {
   "cell_type": "code",
   "execution_count": 1964,
   "outputs": [],
   "source": [
    "from sklearn.pipeline import Pipeline\n",
    "from sklearn.compose import ColumnTransformer\n",
    "from sklearn.preprocessing import LabelEncoder,OneHotEncoder\n",
    "from sklearn import metrics\n",
    "from sklearn.ensemble import RandomForestClassifier, RandomForestRegressor\n",
    "\n",
    "\n",
    "#x = df.drop(['Price', 'Company', 'TypeName', 'OpSys', 'CPU_name', 'CPU_manufacture', 'Gpu brand'], axis=1)\n",
    "#x = np.log(df.drop(['Price', 'Company', 'TypeName', 'OpSys', 'CPU_name', 'CPU_manufacture', 'Gpu brand'], axis=1))\n",
    "\n",
    "x = df.drop(['Price'], axis=1)\n",
    "#y = df['Price']\n",
    "testing = np.log(df['Price'])\n",
    "\n"
   ],
   "metadata": {
    "collapsed": false,
    "pycharm": {
     "name": "#%%\n"
    }
   }
  },
  {
   "cell_type": "code",
   "execution_count": 1965,
   "outputs": [
    {
     "data": {
      "text/plain": "     Company            TypeName  Ram    OpSys  Weight  TouchScreen  IPS  \\\n0      Apple           Ultrabook    8      Mac    1.37            0    1   \n1      Apple           Ultrabook    8      Mac    1.34            0    0   \n2         HP            Notebook    8    Other    1.86            0    0   \n3      Apple           Ultrabook   16      Mac    1.83            0    1   \n4      Apple           Ultrabook    8      Mac    1.37            0    1   \n...      ...                 ...  ...      ...     ...          ...  ...   \n1297  Lenovo  2 in 1 Convertible    4  Windows    1.80            1    1   \n1298  Lenovo  2 in 1 Convertible   16  Windows    1.30            1    1   \n1299  Lenovo            Notebook    2  Windows    1.50            0    0   \n1300      HP            Notebook    6  Windows    2.19            0    0   \n1301    Asus            Notebook    4  Windows    2.20            0    0   \n\n             PPI               CPU_name   HDD  SSD Gpu brand CPU_manufacture  \\\n0     226.983005          Intel Core i5     0  128     Intel           Intel   \n1     127.677940          Intel Core i5     0    0     Intel           Intel   \n2     141.211998          Intel Core i5     0  256     Intel           Intel   \n3     220.534624          Intel Core i7     0  512       AMD           Intel   \n4     226.983005          Intel Core i5     0  256     Intel           Intel   \n...          ...                    ...   ...  ...       ...             ...   \n1297  157.350512          Intel Core i7     0  128     Intel           Intel   \n1298  276.053530          Intel Core i7     0  512     Intel           Intel   \n1299  111.935204  Other Intel Processor     0    0     Intel           Other   \n1300  100.454670          Intel Core i7  1000    0       AMD           Intel   \n1301  100.454670  Other Intel Processor   500    0     Intel           Other   \n\n      CPU_manufacture_type  Type  \n0                        0     2  \n1                        0     2  \n2                        0     0  \n3                        0     2  \n4                        0     2  \n...                    ...   ...  \n1297                     0     3  \n1298                     0     3  \n1299                     1     0  \n1300                     0     0  \n1301                     1     0  \n\n[1302 rows x 15 columns]",
      "text/html": "<div>\n<style scoped>\n    .dataframe tbody tr th:only-of-type {\n        vertical-align: middle;\n    }\n\n    .dataframe tbody tr th {\n        vertical-align: top;\n    }\n\n    .dataframe thead th {\n        text-align: right;\n    }\n</style>\n<table border=\"1\" class=\"dataframe\">\n  <thead>\n    <tr style=\"text-align: right;\">\n      <th></th>\n      <th>Company</th>\n      <th>TypeName</th>\n      <th>Ram</th>\n      <th>OpSys</th>\n      <th>Weight</th>\n      <th>TouchScreen</th>\n      <th>IPS</th>\n      <th>PPI</th>\n      <th>CPU_name</th>\n      <th>HDD</th>\n      <th>SSD</th>\n      <th>Gpu brand</th>\n      <th>CPU_manufacture</th>\n      <th>CPU_manufacture_type</th>\n      <th>Type</th>\n    </tr>\n  </thead>\n  <tbody>\n    <tr>\n      <th>0</th>\n      <td>Apple</td>\n      <td>Ultrabook</td>\n      <td>8</td>\n      <td>Mac</td>\n      <td>1.37</td>\n      <td>0</td>\n      <td>1</td>\n      <td>226.983005</td>\n      <td>Intel Core i5</td>\n      <td>0</td>\n      <td>128</td>\n      <td>Intel</td>\n      <td>Intel</td>\n      <td>0</td>\n      <td>2</td>\n    </tr>\n    <tr>\n      <th>1</th>\n      <td>Apple</td>\n      <td>Ultrabook</td>\n      <td>8</td>\n      <td>Mac</td>\n      <td>1.34</td>\n      <td>0</td>\n      <td>0</td>\n      <td>127.677940</td>\n      <td>Intel Core i5</td>\n      <td>0</td>\n      <td>0</td>\n      <td>Intel</td>\n      <td>Intel</td>\n      <td>0</td>\n      <td>2</td>\n    </tr>\n    <tr>\n      <th>2</th>\n      <td>HP</td>\n      <td>Notebook</td>\n      <td>8</td>\n      <td>Other</td>\n      <td>1.86</td>\n      <td>0</td>\n      <td>0</td>\n      <td>141.211998</td>\n      <td>Intel Core i5</td>\n      <td>0</td>\n      <td>256</td>\n      <td>Intel</td>\n      <td>Intel</td>\n      <td>0</td>\n      <td>0</td>\n    </tr>\n    <tr>\n      <th>3</th>\n      <td>Apple</td>\n      <td>Ultrabook</td>\n      <td>16</td>\n      <td>Mac</td>\n      <td>1.83</td>\n      <td>0</td>\n      <td>1</td>\n      <td>220.534624</td>\n      <td>Intel Core i7</td>\n      <td>0</td>\n      <td>512</td>\n      <td>AMD</td>\n      <td>Intel</td>\n      <td>0</td>\n      <td>2</td>\n    </tr>\n    <tr>\n      <th>4</th>\n      <td>Apple</td>\n      <td>Ultrabook</td>\n      <td>8</td>\n      <td>Mac</td>\n      <td>1.37</td>\n      <td>0</td>\n      <td>1</td>\n      <td>226.983005</td>\n      <td>Intel Core i5</td>\n      <td>0</td>\n      <td>256</td>\n      <td>Intel</td>\n      <td>Intel</td>\n      <td>0</td>\n      <td>2</td>\n    </tr>\n    <tr>\n      <th>...</th>\n      <td>...</td>\n      <td>...</td>\n      <td>...</td>\n      <td>...</td>\n      <td>...</td>\n      <td>...</td>\n      <td>...</td>\n      <td>...</td>\n      <td>...</td>\n      <td>...</td>\n      <td>...</td>\n      <td>...</td>\n      <td>...</td>\n      <td>...</td>\n      <td>...</td>\n    </tr>\n    <tr>\n      <th>1297</th>\n      <td>Lenovo</td>\n      <td>2 in 1 Convertible</td>\n      <td>4</td>\n      <td>Windows</td>\n      <td>1.80</td>\n      <td>1</td>\n      <td>1</td>\n      <td>157.350512</td>\n      <td>Intel Core i7</td>\n      <td>0</td>\n      <td>128</td>\n      <td>Intel</td>\n      <td>Intel</td>\n      <td>0</td>\n      <td>3</td>\n    </tr>\n    <tr>\n      <th>1298</th>\n      <td>Lenovo</td>\n      <td>2 in 1 Convertible</td>\n      <td>16</td>\n      <td>Windows</td>\n      <td>1.30</td>\n      <td>1</td>\n      <td>1</td>\n      <td>276.053530</td>\n      <td>Intel Core i7</td>\n      <td>0</td>\n      <td>512</td>\n      <td>Intel</td>\n      <td>Intel</td>\n      <td>0</td>\n      <td>3</td>\n    </tr>\n    <tr>\n      <th>1299</th>\n      <td>Lenovo</td>\n      <td>Notebook</td>\n      <td>2</td>\n      <td>Windows</td>\n      <td>1.50</td>\n      <td>0</td>\n      <td>0</td>\n      <td>111.935204</td>\n      <td>Other Intel Processor</td>\n      <td>0</td>\n      <td>0</td>\n      <td>Intel</td>\n      <td>Other</td>\n      <td>1</td>\n      <td>0</td>\n    </tr>\n    <tr>\n      <th>1300</th>\n      <td>HP</td>\n      <td>Notebook</td>\n      <td>6</td>\n      <td>Windows</td>\n      <td>2.19</td>\n      <td>0</td>\n      <td>0</td>\n      <td>100.454670</td>\n      <td>Intel Core i7</td>\n      <td>1000</td>\n      <td>0</td>\n      <td>AMD</td>\n      <td>Intel</td>\n      <td>0</td>\n      <td>0</td>\n    </tr>\n    <tr>\n      <th>1301</th>\n      <td>Asus</td>\n      <td>Notebook</td>\n      <td>4</td>\n      <td>Windows</td>\n      <td>2.20</td>\n      <td>0</td>\n      <td>0</td>\n      <td>100.454670</td>\n      <td>Other Intel Processor</td>\n      <td>500</td>\n      <td>0</td>\n      <td>Intel</td>\n      <td>Other</td>\n      <td>1</td>\n      <td>0</td>\n    </tr>\n  </tbody>\n</table>\n<p>1302 rows × 15 columns</p>\n</div>"
     },
     "execution_count": 1965,
     "metadata": {},
     "output_type": "execute_result"
    }
   ],
   "source": [
    "x"
   ],
   "metadata": {
    "collapsed": false,
    "pycharm": {
     "name": "#%%\n"
    }
   }
  },
  {
   "cell_type": "code",
   "execution_count": 1966,
   "outputs": [
    {
     "data": {
      "text/plain": "((1171, 15), (131, 15))"
     },
     "execution_count": 1966,
     "metadata": {},
     "output_type": "execute_result"
    }
   ],
   "source": [
    "from sklearn.model_selection import train_test_split\n",
    "from sklearn.metrics import accuracy_score\n",
    "\n",
    "X_train, X_test, y_train, y_test = train_test_split(x, testing, test_size=0.15, random_state=2)\n",
    "\n",
    "X_train.shape,X_test.shape"
   ],
   "metadata": {
    "collapsed": false,
    "pycharm": {
     "name": "#%%\n"
    }
   }
  },
  {
   "cell_type": "code",
   "execution_count": 1967,
   "outputs": [
    {
     "data": {
      "text/plain": "{0: 'Company',\n 1: 'TypeName',\n 2: 'Ram',\n 3: 'OpSys',\n 4: 'Weight',\n 5: 'TouchScreen',\n 6: 'IPS',\n 7: 'PPI',\n 8: 'CPU_name',\n 9: 'HDD',\n 10: 'SSD',\n 11: 'Gpu brand',\n 12: 'CPU_manufacture',\n 13: 'CPU_manufacture_type',\n 14: 'Type'}"
     },
     "execution_count": 1967,
     "metadata": {},
     "output_type": "execute_result"
    }
   ],
   "source": [
    "mapper = {i:value for i,value in enumerate(X_train.columns)}\n",
    "mapper"
   ],
   "metadata": {
    "collapsed": false,
    "pycharm": {
     "name": "#%%\n"
    }
   }
  },
  {
   "cell_type": "code",
   "execution_count": 1968,
   "outputs": [
    {
     "name": "stdout",
     "output_type": "stream",
     "text": [
      "R2 score 0.8824622418662149\n"
     ]
    }
   ],
   "source": [
    "step1 = ColumnTransformer(transformers=[\n",
    "    ('col_tnf',OneHotEncoder(sparse=False,drop='first'),[0,1,3,8,11,12,14])\n",
    "],remainder='passthrough')\n",
    "\n",
    "\n",
    "\n",
    "step2 = RandomForestRegressor(n_estimators=100,\n",
    "                              random_state=42,\n",
    "                              max_samples=0.5,\n",
    "                              max_features=0.75,\n",
    "                              max_depth=15,\n",
    "                              oob_score=True)\n",
    "\n",
    "\n",
    "pipe = Pipeline([\n",
    "    ('step1',step1),\n",
    "    ('step2',step2)\n",
    "])\n",
    "\n",
    "pipe.fit(X_train,y_train)\n",
    "\n",
    "y_pred = pipe.predict(X_test)\n",
    "\n",
    "\n",
    "print('R2 score',metrics.r2_score(y_test,y_pred))\n"
   ],
   "metadata": {
    "collapsed": false,
    "pycharm": {
     "name": "#%%\n"
    }
   }
  },
  {
   "cell_type": "markdown",
   "source": [
    "# Main Points to Concern"
   ],
   "metadata": {
    "collapsed": false,
    "pycharm": {
     "name": "#%% md\n"
    }
   }
  },
  {
   "cell_type": "code",
   "execution_count": 1969,
   "outputs": [],
   "source": [
    "#when adding np.log accuracy increased from 0.817992766637844 to 0.8872578010268356\n"
   ],
   "metadata": {
    "collapsed": false,
    "pycharm": {
     "name": "#%%\n"
    }
   }
  },
  {
   "cell_type": "markdown",
   "source": [
    "# Description"
   ],
   "metadata": {
    "collapsed": false,
    "pycharm": {
     "name": "#%% md\n"
    }
   }
  },
  {
   "cell_type": "markdown",
   "source": [
    "## 1"
   ],
   "metadata": {
    "collapsed": false,
    "pycharm": {
     "name": "#%% md\n"
    }
   }
  },
  {
   "cell_type": "markdown",
   "source": [
    "When dropping columns with df.drop\n",
    "without pipeline accuracy - 0.7668858153216616\n",
    "with pipeline - 0.7668858153216616\n",
    "\n",
    "So with pipeline noting specially happens"
   ],
   "metadata": {
    "collapsed": false,
    "pycharm": {
     "name": "#%% md\n"
    }
   }
  },
  {
   "cell_type": "markdown",
   "source": [
    "## 2"
   ],
   "metadata": {
    "collapsed": false,
    "pycharm": {
     "name": "#%% md\n"
    }
   }
  },
  {
   "cell_type": "markdown",
   "source": [
    "When using np.log for testing dataset with dropping columns with df.drop in training\n",
    "\n",
    "Previous - 0.7668858153216616\n",
    "with/without pipeline - 0.8200408569709455\n",
    "\n",
    "So np.log significant change happens\n",
    "\n",
    "Special thing here is if we use np.log to training dataset error occur with Input contains NaN, infinity or a value too large for dtype('float32')."
   ],
   "metadata": {
    "collapsed": false,
    "pycharm": {
     "name": "#%% md\n"
    }
   }
  },
  {
   "cell_type": "markdown",
   "source": [
    "## 3"
   ],
   "metadata": {
    "collapsed": false,
    "pycharm": {
     "name": "#%% md\n"
    }
   }
  },
  {
   "cell_type": "markdown",
   "source": [
    "When dropping type column\n",
    "\n",
    "Previous (without dropping) - 0.8200408569709455\n",
    "now - 0.7883011987665366\n",
    "and with adding CPU_manufacture_type accuracy increased from 0.8200 to 0.8507\n",
    "\n",
    "So with having type and CPU_manufacture_type column significant change happens"
   ],
   "metadata": {
    "collapsed": false,
    "pycharm": {
     "name": "#%% md\n"
    }
   }
  },
  {
   "cell_type": "markdown",
   "source": [
    "## 4"
   ],
   "metadata": {
    "collapsed": false,
    "pycharm": {
     "name": "#%% md\n"
    }
   }
  },
  {
   "cell_type": "markdown",
   "source": [
    "when we use df.drop([]) with column drop instead of accuracy dropped ColumnTransformer\n",
    "\n",
    "Previous - 0.8507952228709466\n",
    "now - 0.8872182051267166\n",
    "dropping only CPU_manufacture_type with ColumnTransformer - 0.8875035810985037\n",
    "dropping only type with ColumnTransformer - 0.8893041991733325\n",
    "dropping both with ColumnTransformer - 0.8862410001112703\n",
    "\n",
    "\n",
    "So with having CPU_manufacture_type column high accuracy can be gain"
   ],
   "metadata": {
    "collapsed": false,
    "pycharm": {
     "name": "#%% md\n"
    }
   }
  },
  {
   "cell_type": "markdown",
   "source": [
    "## 5"
   ],
   "metadata": {
    "collapsed": false,
    "pycharm": {
     "name": "#%% md\n"
    }
   }
  },
  {
   "cell_type": "markdown",
   "source": [],
   "metadata": {
    "collapsed": false,
    "pycharm": {
     "name": "#%% md\n"
    }
   }
  },
  {
   "cell_type": "code",
   "execution_count": 1969,
   "outputs": [],
   "source": [],
   "metadata": {
    "collapsed": false,
    "pycharm": {
     "name": "#%%\n"
    }
   }
  },
  {
   "cell_type": "markdown",
   "source": [],
   "metadata": {
    "collapsed": false,
    "pycharm": {
     "name": "#%% md\n"
    }
   }
  },
  {
   "cell_type": "markdown",
   "source": [],
   "metadata": {
    "collapsed": false,
    "pycharm": {
     "name": "#%% md\n"
    }
   }
  }
 ],
 "metadata": {
  "kernelspec": {
   "display_name": "Python 3",
   "language": "python",
   "name": "python3"
  },
  "language_info": {
   "codemirror_mode": {
    "name": "ipython",
    "version": 2
   },
   "file_extension": ".py",
   "mimetype": "text/x-python",
   "name": "python",
   "nbconvert_exporter": "python",
   "pygments_lexer": "ipython2",
   "version": "2.7.6"
  }
 },
 "nbformat": 4,
 "nbformat_minor": 0
}