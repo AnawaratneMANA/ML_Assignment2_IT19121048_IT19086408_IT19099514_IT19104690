{
 "nbformat": 4,
 "nbformat_minor": 0,
 "metadata": {
  "colab": {
   "name": "Maching learning - Assingment II.ipynb",
   "provenance": [],
   "collapsed_sections": [],
   "toc_visible": true,
   "include_colab_link": true
  },
  "kernelspec": {
   "name": "python3",
   "display_name": "Python 3"
  },
  "language_info": {
   "name": "python"
  }
 },
 "cells": [
  {
   "cell_type": "markdown",
   "metadata": {
    "id": "xcuYT80sALGF",
    "pycharm": {
     "name": "#%% md\n"
    }
   },
   "source": [
    "# Machine learning - Assignment 2\n",
    "#### Laptop price prediction with multiple linear regression"
   ],
   "outputs": []
  },
  {
   "cell_type": "markdown",
   "source": [
    "#### Importing libraries"
   ],
   "metadata": {
    "collapsed": false,
    "pycharm": {
     "name": "#%% md\n"
    }
   }
  },
  {
   "cell_type": "code",
   "execution_count": 199,
   "outputs": [],
   "source": [
    "import pandas as pd\n",
    "import numpy as np\n",
    "import seaborn as sn\n",
    "import matplotlib.pyplot as plt\n",
    "from sklearn.preprocessing import LabelEncoder\n",
    "from sklearn.ensemble import RandomForestClassifier, RandomForestRegressor"
   ],
   "metadata": {
    "collapsed": false,
    "pycharm": {
     "name": "#%%\n"
    }
   }
  },
  {
   "cell_type": "markdown",
   "source": [
    "#### Data importing"
   ],
   "metadata": {
    "collapsed": false,
    "pycharm": {
     "name": "#%% md\n"
    }
   }
  },
  {
   "cell_type": "code",
   "execution_count": 200,
   "outputs": [
    {
     "data": {
      "text/plain": "  Company   TypeName  Ram  OpSys  Weight  TouchScreen  IPS         PPI  \\\n0   Apple  Ultrabook    8    Mac    1.37            0    1  226.983005   \n1   Apple  Ultrabook    8    Mac    1.34            0    0  127.677940   \n2      HP   Notebook    8  Other    1.86            0    0  141.211998   \n3   Apple  Ultrabook   16    Mac    1.83            0    1  220.534624   \n4   Apple  Ultrabook    8    Mac    1.37            0    1  226.983005   \n\n        CPU_name  HDD  SSD Gpu brand        Price  \n0  Intel Core i5    0  128     Intel   71378.6832  \n1  Intel Core i5    0    0     Intel   47895.5232  \n2  Intel Core i5    0  256     Intel   30636.0000  \n3  Intel Core i7    0  512       AMD  135195.3360  \n4  Intel Core i5    0  256     Intel   96095.8080  ",
      "text/html": "<div>\n<style scoped>\n    .dataframe tbody tr th:only-of-type {\n        vertical-align: middle;\n    }\n\n    .dataframe tbody tr th {\n        vertical-align: top;\n    }\n\n    .dataframe thead th {\n        text-align: right;\n    }\n</style>\n<table border=\"1\" class=\"dataframe\">\n  <thead>\n    <tr style=\"text-align: right;\">\n      <th></th>\n      <th>Company</th>\n      <th>TypeName</th>\n      <th>Ram</th>\n      <th>OpSys</th>\n      <th>Weight</th>\n      <th>TouchScreen</th>\n      <th>IPS</th>\n      <th>PPI</th>\n      <th>CPU_name</th>\n      <th>HDD</th>\n      <th>SSD</th>\n      <th>Gpu brand</th>\n      <th>Price</th>\n    </tr>\n  </thead>\n  <tbody>\n    <tr>\n      <th>0</th>\n      <td>Apple</td>\n      <td>Ultrabook</td>\n      <td>8</td>\n      <td>Mac</td>\n      <td>1.37</td>\n      <td>0</td>\n      <td>1</td>\n      <td>226.983005</td>\n      <td>Intel Core i5</td>\n      <td>0</td>\n      <td>128</td>\n      <td>Intel</td>\n      <td>71378.6832</td>\n    </tr>\n    <tr>\n      <th>1</th>\n      <td>Apple</td>\n      <td>Ultrabook</td>\n      <td>8</td>\n      <td>Mac</td>\n      <td>1.34</td>\n      <td>0</td>\n      <td>0</td>\n      <td>127.677940</td>\n      <td>Intel Core i5</td>\n      <td>0</td>\n      <td>0</td>\n      <td>Intel</td>\n      <td>47895.5232</td>\n    </tr>\n    <tr>\n      <th>2</th>\n      <td>HP</td>\n      <td>Notebook</td>\n      <td>8</td>\n      <td>Other</td>\n      <td>1.86</td>\n      <td>0</td>\n      <td>0</td>\n      <td>141.211998</td>\n      <td>Intel Core i5</td>\n      <td>0</td>\n      <td>256</td>\n      <td>Intel</td>\n      <td>30636.0000</td>\n    </tr>\n    <tr>\n      <th>3</th>\n      <td>Apple</td>\n      <td>Ultrabook</td>\n      <td>16</td>\n      <td>Mac</td>\n      <td>1.83</td>\n      <td>0</td>\n      <td>1</td>\n      <td>220.534624</td>\n      <td>Intel Core i7</td>\n      <td>0</td>\n      <td>512</td>\n      <td>AMD</td>\n      <td>135195.3360</td>\n    </tr>\n    <tr>\n      <th>4</th>\n      <td>Apple</td>\n      <td>Ultrabook</td>\n      <td>8</td>\n      <td>Mac</td>\n      <td>1.37</td>\n      <td>0</td>\n      <td>1</td>\n      <td>226.983005</td>\n      <td>Intel Core i5</td>\n      <td>0</td>\n      <td>256</td>\n      <td>Intel</td>\n      <td>96095.8080</td>\n    </tr>\n  </tbody>\n</table>\n</div>"
     },
     "execution_count": 200,
     "metadata": {},
     "output_type": "execute_result"
    }
   ],
   "source": [
    "data_df = pd.read_csv('traineddataUpdate.csv')\n",
    "data_df.head()"
   ],
   "metadata": {
    "collapsed": false,
    "pycharm": {
     "name": "#%%\n"
    }
   }
  },
  {
   "cell_type": "markdown",
   "source": [
    "#### Prior data visualization"
   ],
   "metadata": {
    "collapsed": false,
    "pycharm": {
     "name": "#%% md\n"
    }
   }
  },
  {
   "cell_type": "code",
   "execution_count": 201,
   "outputs": [
    {
     "data": {
      "text/plain": "<AxesSubplot:xlabel='Price', ylabel='Count'>"
     },
     "execution_count": 201,
     "metadata": {},
     "output_type": "execute_result"
    },
    {
     "data": {
      "text/plain": "<Figure size 432x288 with 1 Axes>",
      "image/png": "[encoded data removed]"
     },
     "metadata": {},
     "output_type": "display_data"
    }
   ],
   "source": [
    "# Plotting a actual price distribution.\n",
    "sn.histplot(data_df['Price'],color='green')"
   ],
   "metadata": {
    "collapsed": false,
    "pycharm": {
     "name": "#%%\n"
    }
   }
  },
  {
   "cell_type": "code",
   "execution_count": 202,
   "outputs": [
    {
     "name": "stderr",
     "output_type": "stream",
     "text": [
      "C:\\Users\\salitha\\anaconda3\\lib\\site-packages\\seaborn\\_decorators.py:36: FutureWarning: Pass the following variable as a keyword arg: x. From version 0.12, the only valid positional argument will be `data`, and passing other arguments without an explicit keyword will result in an error or misinterpretation.\n",
      "  warnings.warn(\n"
     ]
    },
    {
     "data": {
      "text/plain": "(array([0, 1, 2, 3, 4, 5]),\n [Text(0, 0, 'Ultrabook'),\n  Text(1, 0, 'Notebook'),\n  Text(2, 0, 'Netbook'),\n  Text(3, 0, 'Gaming'),\n  Text(4, 0, '2 in 1 Convertible'),\n  Text(5, 0, 'Workstation')])"
     },
     "execution_count": 202,
     "metadata": {},
     "output_type": "execute_result"
    },
    {
     "data": {
      "text/plain": "<Figure size 432x288 with 1 Axes>",
      "image/png": "[encoded data removed]"
     },
     "metadata": {},
     "output_type": "display_data"
    }
   ],
   "source": [
    "# Information related to various type of laptops.\n",
    "sn.countplot(data_df['TypeName'])\n",
    "plt.xticks(rotation = 'vertical')"
   ],
   "metadata": {
    "collapsed": false,
    "pycharm": {
     "name": "#%%\n"
    }
   }
  },
  {
   "cell_type": "code",
   "execution_count": 203,
   "outputs": [
    {
     "name": "stderr",
     "output_type": "stream",
     "text": [
      "C:\\Users\\salitha\\anaconda3\\lib\\site-packages\\seaborn\\_decorators.py:36: FutureWarning: Pass the following variable as a keyword arg: x. From version 0.12, the only valid positional argument will be `data`, and passing other arguments without an explicit keyword will result in an error or misinterpretation.\n",
      "  warnings.warn(\n"
     ]
    },
    {
     "data": {
      "text/plain": "<Figure size 432x288 with 1 Axes>",
      "image/png": "[encoded data removed]"
     },
     "metadata": {},
     "output_type": "display_data"
    }
   ],
   "source": [
    "# Plotting GPU manufacture information.\n",
    "sn.countplot(data_df['Gpu brand'])\n",
    "plt.show()\n"
   ],
   "metadata": {
    "collapsed": false,
    "pycharm": {
     "name": "#%%\n"
    }
   }
  },
  {
   "cell_type": "code",
   "execution_count": 204,
   "outputs": [],
   "source": [
    "# Extracting CPU manufacture details from the dataset.\n",
    "cpu_manufacture = data_df['CPU_name'].str.split(' ',n = 1,expand=True)\n",
    "cpu_manufacture.head()\n",
    "data_df['CPU_manufacture'] = cpu_manufacture[0]"
   ],
   "metadata": {
    "collapsed": false,
    "pycharm": {
     "name": "#%%\n"
    }
   }
  },
  {
   "cell_type": "code",
   "execution_count": 205,
   "outputs": [
    {
     "data": {
      "text/plain": "<AxesSubplot:ylabel='None'>"
     },
     "execution_count": 205,
     "metadata": {},
     "output_type": "execute_result"
    },
    {
     "data": {
      "text/plain": "<Figure size 432x288 with 1 Axes>",
      "image/png": "[encoded data removed]"
     },
     "metadata": {},
     "output_type": "display_data"
    }
   ],
   "source": [
    "# Plotting the CPU manufacture details\n",
    "cpu_value = data_df.value_counts('CPU_manufacture')\n",
    "cpu_value.sort_values().plot(kind='pie')"
   ],
   "metadata": {
    "collapsed": false,
    "pycharm": {
     "name": "#%%\n"
    }
   }
  },
  {
   "cell_type": "markdown",
   "source": [
    "#### Data augmentation - Experiment"
   ],
   "metadata": {
    "collapsed": false,
    "pycharm": {
     "name": "#%% md\n"
    }
   }
  },
  {
   "cell_type": "markdown",
   "source": [
    "##### Add LabelEncoder"
   ],
   "metadata": {
    "collapsed": false,
    "pycharm": {
     "name": "#%% md\n"
    }
   }
  },
  {
   "cell_type": "code",
   "execution_count": 206,
   "outputs": [],
   "source": [
    "labeled_type_name = LabelEncoder()\n",
    "labeled_comapny_name = LabelEncoder()\n",
    "labeled_cpu_name = LabelEncoder()"
   ],
   "metadata": {
    "collapsed": false,
    "pycharm": {
     "name": "#%%\n"
    }
   }
  },
  {
   "cell_type": "code",
   "execution_count": 207,
   "outputs": [
    {
     "data": {
      "text/plain": "  Company   TypeName  Ram  OpSys  Weight  TouchScreen  IPS         PPI  \\\n0   Apple  Ultrabook    8    Mac    1.37            0    1  226.983005   \n1   Apple  Ultrabook    8    Mac    1.34            0    0  127.677940   \n2      HP   Notebook    8  Other    1.86            0    0  141.211998   \n3   Apple  Ultrabook   16    Mac    1.83            0    1  220.534624   \n4   Apple  Ultrabook    8    Mac    1.37            0    1  226.983005   \n\n        CPU_name  HDD  SSD Gpu brand        Price CPU_manufacture  Type  \\\n0  Intel Core i5    0  128     Intel   71378.6832           Intel     4   \n1  Intel Core i5    0    0     Intel   47895.5232           Intel     4   \n2  Intel Core i5    0  256     Intel   30636.0000           Intel     3   \n3  Intel Core i7    0  512       AMD  135195.3360           Intel     4   \n4  Intel Core i5    0  256     Intel   96095.8080           Intel     4   \n\n   CPU_manufacture_type  Company_Type  \n0                     1             1  \n1                     1             1  \n2                     1             7  \n3                     1             1  \n4                     1             1  ",
      "text/html": "<div>\n<style scoped>\n    .dataframe tbody tr th:only-of-type {\n        vertical-align: middle;\n    }\n\n    .dataframe tbody tr th {\n        vertical-align: top;\n    }\n\n    .dataframe thead th {\n        text-align: right;\n    }\n</style>\n<table border=\"1\" class=\"dataframe\">\n  <thead>\n    <tr style=\"text-align: right;\">\n      <th></th>\n      <th>Company</th>\n      <th>TypeName</th>\n      <th>Ram</th>\n      <th>OpSys</th>\n      <th>Weight</th>\n      <th>TouchScreen</th>\n      <th>IPS</th>\n      <th>PPI</th>\n      <th>CPU_name</th>\n      <th>HDD</th>\n      <th>SSD</th>\n      <th>Gpu brand</th>\n      <th>Price</th>\n      <th>CPU_manufacture</th>\n      <th>Type</th>\n      <th>CPU_manufacture_type</th>\n      <th>Company_Type</th>\n    </tr>\n  </thead>\n  <tbody>\n    <tr>\n      <th>0</th>\n      <td>Apple</td>\n      <td>Ultrabook</td>\n      <td>8</td>\n      <td>Mac</td>\n      <td>1.37</td>\n      <td>0</td>\n      <td>1</td>\n      <td>226.983005</td>\n      <td>Intel Core i5</td>\n      <td>0</td>\n      <td>128</td>\n      <td>Intel</td>\n      <td>71378.6832</td>\n      <td>Intel</td>\n      <td>4</td>\n      <td>1</td>\n      <td>1</td>\n    </tr>\n    <tr>\n      <th>1</th>\n      <td>Apple</td>\n      <td>Ultrabook</td>\n      <td>8</td>\n      <td>Mac</td>\n      <td>1.34</td>\n      <td>0</td>\n      <td>0</td>\n      <td>127.677940</td>\n      <td>Intel Core i5</td>\n      <td>0</td>\n      <td>0</td>\n      <td>Intel</td>\n      <td>47895.5232</td>\n      <td>Intel</td>\n      <td>4</td>\n      <td>1</td>\n      <td>1</td>\n    </tr>\n    <tr>\n      <th>2</th>\n      <td>HP</td>\n      <td>Notebook</td>\n      <td>8</td>\n      <td>Other</td>\n      <td>1.86</td>\n      <td>0</td>\n      <td>0</td>\n      <td>141.211998</td>\n      <td>Intel Core i5</td>\n      <td>0</td>\n      <td>256</td>\n      <td>Intel</td>\n      <td>30636.0000</td>\n      <td>Intel</td>\n      <td>3</td>\n      <td>1</td>\n      <td>7</td>\n    </tr>\n    <tr>\n      <th>3</th>\n      <td>Apple</td>\n      <td>Ultrabook</td>\n      <td>16</td>\n      <td>Mac</td>\n      <td>1.83</td>\n      <td>0</td>\n      <td>1</td>\n      <td>220.534624</td>\n      <td>Intel Core i7</td>\n      <td>0</td>\n      <td>512</td>\n      <td>AMD</td>\n      <td>135195.3360</td>\n      <td>Intel</td>\n      <td>4</td>\n      <td>1</td>\n      <td>1</td>\n    </tr>\n    <tr>\n      <th>4</th>\n      <td>Apple</td>\n      <td>Ultrabook</td>\n      <td>8</td>\n      <td>Mac</td>\n      <td>1.37</td>\n      <td>0</td>\n      <td>1</td>\n      <td>226.983005</td>\n      <td>Intel Core i5</td>\n      <td>0</td>\n      <td>256</td>\n      <td>Intel</td>\n      <td>96095.8080</td>\n      <td>Intel</td>\n      <td>4</td>\n      <td>1</td>\n      <td>1</td>\n    </tr>\n  </tbody>\n</table>\n</div>"
     },
     "execution_count": 207,
     "metadata": {},
     "output_type": "execute_result"
    }
   ],
   "source": [
    "data_df['Type'] = labeled_type_name.fit_transform(data_df['TypeName'])\n",
    "data_df['CPU_manufacture_type'] = labeled_comapny_name.fit_transform(data_df['CPU_manufacture'])\n",
    "data_df['Company_Type'] = labeled_cpu_name.fit_transform(data_df['Company'])\n",
    "data_df.head()"
   ],
   "metadata": {
    "collapsed": false,
    "pycharm": {
     "name": "#%%\n"
    }
   }
  },
  {
   "cell_type": "code",
   "execution_count": 208,
   "outputs": [
    {
     "data": {
      "text/plain": "  Company   TypeName  Ram  OpSys  Weight  TouchScreen  IPS         PPI  \\\n0   Apple  Ultrabook    8    Mac    1.37            0    1  226.983005   \n1   Apple  Ultrabook    8    Mac    1.34            0    0  127.677940   \n2      HP   Notebook    8  Other    1.86            0    0  141.211998   \n3   Apple  Ultrabook   16    Mac    1.83            0    1  220.534624   \n4   Apple  Ultrabook    8    Mac    1.37            0    1  226.983005   \n\n        CPU_name  HDD  SSD Gpu brand        Price CPU_manufacture  Type  \\\n0  Intel Core i5    0  128     Intel   71378.6832           Intel     4   \n1  Intel Core i5    0    0     Intel   47895.5232           Intel     4   \n2  Intel Core i5    0  256     Intel   30636.0000           Intel     3   \n3  Intel Core i7    0  512       AMD  135195.3360           Intel     4   \n4  Intel Core i5    0  256     Intel   96095.8080           Intel     4   \n\n   CPU_manufacture_type  Company_Type  \n0                     1             1  \n1                     1             1  \n2                     1             7  \n3                     1             1  \n4                     1             1  ",
      "text/html": "<div>\n<style scoped>\n    .dataframe tbody tr th:only-of-type {\n        vertical-align: middle;\n    }\n\n    .dataframe tbody tr th {\n        vertical-align: top;\n    }\n\n    .dataframe thead th {\n        text-align: right;\n    }\n</style>\n<table border=\"1\" class=\"dataframe\">\n  <thead>\n    <tr style=\"text-align: right;\">\n      <th></th>\n      <th>Company</th>\n      <th>TypeName</th>\n      <th>Ram</th>\n      <th>OpSys</th>\n      <th>Weight</th>\n      <th>TouchScreen</th>\n      <th>IPS</th>\n      <th>PPI</th>\n      <th>CPU_name</th>\n      <th>HDD</th>\n      <th>SSD</th>\n      <th>Gpu brand</th>\n      <th>Price</th>\n      <th>CPU_manufacture</th>\n      <th>Type</th>\n      <th>CPU_manufacture_type</th>\n      <th>Company_Type</th>\n    </tr>\n  </thead>\n  <tbody>\n    <tr>\n      <th>0</th>\n      <td>Apple</td>\n      <td>Ultrabook</td>\n      <td>8</td>\n      <td>Mac</td>\n      <td>1.37</td>\n      <td>0</td>\n      <td>1</td>\n      <td>226.983005</td>\n      <td>Intel Core i5</td>\n      <td>0</td>\n      <td>128</td>\n      <td>Intel</td>\n      <td>71378.6832</td>\n      <td>Intel</td>\n      <td>4</td>\n      <td>1</td>\n      <td>1</td>\n    </tr>\n    <tr>\n      <th>1</th>\n      <td>Apple</td>\n      <td>Ultrabook</td>\n      <td>8</td>\n      <td>Mac</td>\n      <td>1.34</td>\n      <td>0</td>\n      <td>0</td>\n      <td>127.677940</td>\n      <td>Intel Core i5</td>\n      <td>0</td>\n      <td>0</td>\n      <td>Intel</td>\n      <td>47895.5232</td>\n      <td>Intel</td>\n      <td>4</td>\n      <td>1</td>\n      <td>1</td>\n    </tr>\n    <tr>\n      <th>2</th>\n      <td>HP</td>\n      <td>Notebook</td>\n      <td>8</td>\n      <td>Other</td>\n      <td>1.86</td>\n      <td>0</td>\n      <td>0</td>\n      <td>141.211998</td>\n      <td>Intel Core i5</td>\n      <td>0</td>\n      <td>256</td>\n      <td>Intel</td>\n      <td>30636.0000</td>\n      <td>Intel</td>\n      <td>3</td>\n      <td>1</td>\n      <td>7</td>\n    </tr>\n    <tr>\n      <th>3</th>\n      <td>Apple</td>\n      <td>Ultrabook</td>\n      <td>16</td>\n      <td>Mac</td>\n      <td>1.83</td>\n      <td>0</td>\n      <td>1</td>\n      <td>220.534624</td>\n      <td>Intel Core i7</td>\n      <td>0</td>\n      <td>512</td>\n      <td>AMD</td>\n      <td>135195.3360</td>\n      <td>Intel</td>\n      <td>4</td>\n      <td>1</td>\n      <td>1</td>\n    </tr>\n    <tr>\n      <th>4</th>\n      <td>Apple</td>\n      <td>Ultrabook</td>\n      <td>8</td>\n      <td>Mac</td>\n      <td>1.37</td>\n      <td>0</td>\n      <td>1</td>\n      <td>226.983005</td>\n      <td>Intel Core i5</td>\n      <td>0</td>\n      <td>256</td>\n      <td>Intel</td>\n      <td>96095.8080</td>\n      <td>Intel</td>\n      <td>4</td>\n      <td>1</td>\n      <td>1</td>\n    </tr>\n  </tbody>\n</table>\n</div>"
     },
     "execution_count": 208,
     "metadata": {},
     "output_type": "execute_result"
    }
   ],
   "source": [
    "data_df.head()"
   ],
   "metadata": {
    "collapsed": false,
    "pycharm": {
     "name": "#%%\n"
    }
   }
  },
  {
   "cell_type": "code",
   "execution_count": 209,
   "outputs": [
    {
     "data": {
      "text/plain": "Company                 0\nTypeName                0\nRam                     0\nOpSys                   0\nWeight                  0\nTouchScreen             0\nIPS                     0\nPPI                     0\nCPU_name                0\nHDD                     0\nSSD                     0\nGpu brand               0\nPrice                   0\nCPU_manufacture         0\nType                    0\nCPU_manufacture_type    0\nCompany_Type            0\ndtype: int64"
     },
     "execution_count": 209,
     "metadata": {},
     "output_type": "execute_result"
    }
   ],
   "source": [
    "# Check for NULL values before partitioning.\n",
    "data_df.isnull().sum()\n"
   ],
   "metadata": {
    "collapsed": false,
    "pycharm": {
     "name": "#%%\n"
    }
   }
  },
  {
   "cell_type": "markdown",
   "source": [
    "#### Define Training and Testing values"
   ],
   "metadata": {
    "collapsed": false,
    "pycharm": {
     "name": "#%% md\n"
    }
   }
  },
  {
   "cell_type": "code",
   "execution_count": 210,
   "outputs": [],
   "source": [
    "# Define X and Y values.\n",
    "# x = data_df.drop(['Price', 'Company', 'TypeName', 'OpSys', 'CPU_name', 'CPU_manufacture', 'Gpu brand'], axis=1).values\n",
    "# y = data_df['Price'].values\n",
    "\n",
    "# Newer data splitting method.\n",
    "train = data_df.drop(['Price'], axis=1)\n",
    "# Only change here is usage of np.log().\n",
    "testing = np.log(data_df['Price'])"
   ],
   "metadata": {
    "collapsed": false,
    "pycharm": {
     "name": "#%%\n"
    }
   }
  },
  {
   "cell_type": "code",
   "execution_count": 211,
   "outputs": [
    {
     "data": {
      "text/plain": "     Company            TypeName  Ram    OpSys  Weight  TouchScreen  IPS  \\\n0      Apple           Ultrabook    8      Mac    1.37            0    1   \n1      Apple           Ultrabook    8      Mac    1.34            0    0   \n2         HP            Notebook    8    Other    1.86            0    0   \n3      Apple           Ultrabook   16      Mac    1.83            0    1   \n4      Apple           Ultrabook    8      Mac    1.37            0    1   \n...      ...                 ...  ...      ...     ...          ...  ...   \n1297  Lenovo  2 in 1 Convertible    4  Windows    1.80            1    1   \n1298  Lenovo  2 in 1 Convertible   16  Windows    1.30            1    1   \n1299  Lenovo            Notebook    2  Windows    1.50            0    0   \n1300      HP            Notebook    6  Windows    2.19            0    0   \n1301    Asus            Notebook    4  Windows    2.20            0    0   \n\n             PPI               CPU_name   HDD  SSD Gpu brand CPU_manufacture  \\\n0     226.983005          Intel Core i5     0  128     Intel           Intel   \n1     127.677940          Intel Core i5     0    0     Intel           Intel   \n2     141.211998          Intel Core i5     0  256     Intel           Intel   \n3     220.534624          Intel Core i7     0  512       AMD           Intel   \n4     226.983005          Intel Core i5     0  256     Intel           Intel   \n...          ...                    ...   ...  ...       ...             ...   \n1297  157.350512          Intel Core i7     0  128     Intel           Intel   \n1298  276.053530          Intel Core i7     0  512     Intel           Intel   \n1299  111.935204  Other Intel Processor     0    0     Intel           Other   \n1300  100.454670          Intel Core i7  1000    0       AMD           Intel   \n1301  100.454670  Other Intel Processor   500    0     Intel           Other   \n\n      Type  CPU_manufacture_type  Company_Type  \n0        4                     1             1  \n1        4                     1             1  \n2        3                     1             7  \n3        4                     1             1  \n4        4                     1             1  \n...    ...                   ...           ...  \n1297     0                     1            10  \n1298     0                     1            10  \n1299     3                     2            10  \n1300     3                     1             7  \n1301     3                     2             2  \n\n[1302 rows x 16 columns]",
      "text/html": "<div>\n<style scoped>\n    .dataframe tbody tr th:only-of-type {\n        vertical-align: middle;\n    }\n\n    .dataframe tbody tr th {\n        vertical-align: top;\n    }\n\n    .dataframe thead th {\n        text-align: right;\n    }\n</style>\n<table border=\"1\" class=\"dataframe\">\n  <thead>\n    <tr style=\"text-align: right;\">\n      <th></th>\n      <th>Company</th>\n      <th>TypeName</th>\n      <th>Ram</th>\n      <th>OpSys</th>\n      <th>Weight</th>\n      <th>TouchScreen</th>\n      <th>IPS</th>\n      <th>PPI</th>\n      <th>CPU_name</th>\n      <th>HDD</th>\n      <th>SSD</th>\n      <th>Gpu brand</th>\n      <th>CPU_manufacture</th>\n      <th>Type</th>\n      <th>CPU_manufacture_type</th>\n      <th>Company_Type</th>\n    </tr>\n  </thead>\n  <tbody>\n    <tr>\n      <th>0</th>\n      <td>Apple</td>\n      <td>Ultrabook</td>\n      <td>8</td>\n      <td>Mac</td>\n      <td>1.37</td>\n      <td>0</td>\n      <td>1</td>\n      <td>226.983005</td>\n      <td>Intel Core i5</td>\n      <td>0</td>\n      <td>128</td>\n      <td>Intel</td>\n      <td>Intel</td>\n      <td>4</td>\n      <td>1</td>\n      <td>1</td>\n    </tr>\n    <tr>\n      <th>1</th>\n      <td>Apple</td>\n      <td>Ultrabook</td>\n      <td>8</td>\n      <td>Mac</td>\n      <td>1.34</td>\n      <td>0</td>\n      <td>0</td>\n      <td>127.677940</td>\n      <td>Intel Core i5</td>\n      <td>0</td>\n      <td>0</td>\n      <td>Intel</td>\n      <td>Intel</td>\n      <td>4</td>\n      <td>1</td>\n      <td>1</td>\n    </tr>\n    <tr>\n      <th>2</th>\n      <td>HP</td>\n      <td>Notebook</td>\n      <td>8</td>\n      <td>Other</td>\n      <td>1.86</td>\n      <td>0</td>\n      <td>0</td>\n      <td>141.211998</td>\n      <td>Intel Core i5</td>\n      <td>0</td>\n      <td>256</td>\n      <td>Intel</td>\n      <td>Intel</td>\n      <td>3</td>\n      <td>1</td>\n      <td>7</td>\n    </tr>\n    <tr>\n      <th>3</th>\n      <td>Apple</td>\n      <td>Ultrabook</td>\n      <td>16</td>\n      <td>Mac</td>\n      <td>1.83</td>\n      <td>0</td>\n      <td>1</td>\n      <td>220.534624</td>\n      <td>Intel Core i7</td>\n      <td>0</td>\n      <td>512</td>\n      <td>AMD</td>\n      <td>Intel</td>\n      <td>4</td>\n      <td>1</td>\n      <td>1</td>\n    </tr>\n    <tr>\n      <th>4</th>\n      <td>Apple</td>\n      <td>Ultrabook</td>\n      <td>8</td>\n      <td>Mac</td>\n      <td>1.37</td>\n      <td>0</td>\n      <td>1</td>\n      <td>226.983005</td>\n      <td>Intel Core i5</td>\n      <td>0</td>\n      <td>256</td>\n      <td>Intel</td>\n      <td>Intel</td>\n      <td>4</td>\n      <td>1</td>\n      <td>1</td>\n    </tr>\n    <tr>\n      <th>...</th>\n      <td>...</td>\n      <td>...</td>\n      <td>...</td>\n      <td>...</td>\n      <td>...</td>\n      <td>...</td>\n      <td>...</td>\n      <td>...</td>\n      <td>...</td>\n      <td>...</td>\n      <td>...</td>\n      <td>...</td>\n      <td>...</td>\n      <td>...</td>\n      <td>...</td>\n      <td>...</td>\n    </tr>\n    <tr>\n      <th>1297</th>\n      <td>Lenovo</td>\n      <td>2 in 1 Convertible</td>\n      <td>4</td>\n      <td>Windows</td>\n      <td>1.80</td>\n      <td>1</td>\n      <td>1</td>\n      <td>157.350512</td>\n      <td>Intel Core i7</td>\n      <td>0</td>\n      <td>128</td>\n      <td>Intel</td>\n      <td>Intel</td>\n      <td>0</td>\n      <td>1</td>\n      <td>10</td>\n    </tr>\n    <tr>\n      <th>1298</th>\n      <td>Lenovo</td>\n      <td>2 in 1 Convertible</td>\n      <td>16</td>\n      <td>Windows</td>\n      <td>1.30</td>\n      <td>1</td>\n      <td>1</td>\n      <td>276.053530</td>\n      <td>Intel Core i7</td>\n      <td>0</td>\n      <td>512</td>\n      <td>Intel</td>\n      <td>Intel</td>\n      <td>0</td>\n      <td>1</td>\n      <td>10</td>\n    </tr>\n    <tr>\n      <th>1299</th>\n      <td>Lenovo</td>\n      <td>Notebook</td>\n      <td>2</td>\n      <td>Windows</td>\n      <td>1.50</td>\n      <td>0</td>\n      <td>0</td>\n      <td>111.935204</td>\n      <td>Other Intel Processor</td>\n      <td>0</td>\n      <td>0</td>\n      <td>Intel</td>\n      <td>Other</td>\n      <td>3</td>\n      <td>2</td>\n      <td>10</td>\n    </tr>\n    <tr>\n      <th>1300</th>\n      <td>HP</td>\n      <td>Notebook</td>\n      <td>6</td>\n      <td>Windows</td>\n      <td>2.19</td>\n      <td>0</td>\n      <td>0</td>\n      <td>100.454670</td>\n      <td>Intel Core i7</td>\n      <td>1000</td>\n      <td>0</td>\n      <td>AMD</td>\n      <td>Intel</td>\n      <td>3</td>\n      <td>1</td>\n      <td>7</td>\n    </tr>\n    <tr>\n      <th>1301</th>\n      <td>Asus</td>\n      <td>Notebook</td>\n      <td>4</td>\n      <td>Windows</td>\n      <td>2.20</td>\n      <td>0</td>\n      <td>0</td>\n      <td>100.454670</td>\n      <td>Other Intel Processor</td>\n      <td>500</td>\n      <td>0</td>\n      <td>Intel</td>\n      <td>Other</td>\n      <td>3</td>\n      <td>2</td>\n      <td>2</td>\n    </tr>\n  </tbody>\n</table>\n<p>1302 rows × 16 columns</p>\n</div>"
     },
     "execution_count": 211,
     "metadata": {},
     "output_type": "execute_result"
    }
   ],
   "source": [
    "# Validating the X dataset\n",
    "train"
   ],
   "metadata": {
    "collapsed": false,
    "pycharm": {
     "name": "#%%\n"
    }
   }
  },
  {
   "cell_type": "code",
   "execution_count": 212,
   "outputs": [
    {
     "data": {
      "text/plain": "0       11.175755\n1       10.776777\n2       10.329931\n3       11.814476\n4       11.473101\n          ...    \n1297    10.433899\n1298    11.288115\n1299     9.409283\n1300    10.614129\n1301     9.886358\nName: Price, Length: 1302, dtype: float64"
     },
     "execution_count": 212,
     "metadata": {},
     "output_type": "execute_result"
    }
   ],
   "source": [
    "# Validating the Y dataset\n",
    "testing"
   ],
   "metadata": {
    "collapsed": false,
    "pycharm": {
     "name": "#%%\n"
    }
   }
  },
  {
   "cell_type": "code",
   "execution_count": 213,
   "outputs": [],
   "source": [
    "# Split data into train test validation.\n",
    "from sklearn.model_selection import train_test_split\n",
    "x_train, x_test, y_train, y_test = train_test_split(train, testing, test_size=0.15, random_state=2) # Change the values appropriately for the each model."
   ],
   "metadata": {
    "collapsed": false,
    "pycharm": {
     "name": "#%%\n"
    }
   }
  },
  {
   "cell_type": "markdown",
   "source": [
    "#### Prepare pipeline and mapper for the data."
   ],
   "metadata": {
    "collapsed": false,
    "pycharm": {
     "name": "#%% md\n"
    }
   }
  },
  {
   "cell_type": "code",
   "execution_count": 214,
   "outputs": [
    {
     "data": {
      "text/plain": "{0: 'Company',\n 1: 'TypeName',\n 2: 'Ram',\n 3: 'OpSys',\n 4: 'Weight',\n 5: 'TouchScreen',\n 6: 'IPS',\n 7: 'PPI',\n 8: 'CPU_name',\n 9: 'HDD',\n 10: 'SSD',\n 11: 'Gpu brand',\n 12: 'CPU_manufacture',\n 13: 'Type',\n 14: 'CPU_manufacture_type',\n 15: 'Company_Type'}"
     },
     "execution_count": 214,
     "metadata": {},
     "output_type": "execute_result"
    }
   ],
   "source": [
    "mapper = {i:value for i,value in enumerate(x_train.columns)}\n",
    "mapper"
   ],
   "metadata": {
    "collapsed": false,
    "pycharm": {
     "name": "#%%\n"
    }
   }
  },
  {
   "cell_type": "markdown",
   "source": [
    "#### Define the machine learning model"
   ],
   "metadata": {
    "collapsed": false,
    "pycharm": {
     "name": "#%% md\n"
    }
   }
  },
  {
   "cell_type": "code",
   "execution_count": 215,
   "outputs": [
    {
     "name": "stdout",
     "output_type": "stream",
     "text": [
      "R2 score 0.8943407646451138\n"
     ]
    }
   ],
   "source": [
    "from sklearn.pipeline import Pipeline\n",
    "from sklearn.preprocessing import OneHotEncoder\n",
    "from sklearn.compose import ColumnTransformer\n",
    "from sklearn.linear_model import LinearRegression\n",
    "from sklearn import metrics\n",
    "# Select the number of columns.\n",
    "selected_columns = ColumnTransformer(transformers=[\n",
    "    ('col_tnf',OneHotEncoder(sparse=False,drop='first'),[14,12,11,8,3,1,0])\n",
    "],remainder='passthrough')\n",
    "\n",
    "# Create the model as a another layer in the pipeline\n",
    "Random_forest_regression_model = RandomForestRegressor(\n",
    "                            n_estimators=1000,\n",
    "                              random_state=2,\n",
    "                              max_samples=0.5,\n",
    "                              max_features=0.75,\n",
    "                              max_depth=100\n",
    ") # Change the model here.\n",
    "\n",
    "#\n",
    "#\n",
    "\n",
    "# Create the pipeline to connect the layers.\n",
    "pipe = Pipeline([\n",
    "    ('step1',selected_columns),\n",
    "    ('step2',Random_forest_regression_model)\n",
    "])\n",
    "\n",
    "pipe.fit(x_train,y_train)\n",
    "\n",
    "y_pred = pipe.predict(x_test)\n",
    "\n",
    "print('R2 score',metrics.r2_score(y_test,y_pred))"
   ],
   "metadata": {
    "collapsed": false,
    "pycharm": {
     "name": "#%%\n"
    }
   }
  },
  {
   "cell_type": "markdown",
   "source": [
    "#### Get prediction and evaluate the accuracy"
   ],
   "metadata": {
    "collapsed": false,
    "pycharm": {
     "name": "#%% md\n"
    }
   }
  },
  {
   "cell_type": "code",
   "execution_count": 216,
   "outputs": [],
   "source": [
    "# Predict results with the trained model\n",
    "y_pred = pipe.predict(x_test)"
   ],
   "metadata": {
    "collapsed": false,
    "pycharm": {
     "name": "#%%\n"
    }
   }
  },
  {
   "cell_type": "code",
   "execution_count": 217,
   "outputs": [
    {
     "data": {
      "text/plain": "0.8943407646451138"
     },
     "execution_count": 217,
     "metadata": {},
     "output_type": "execute_result"
    }
   ],
   "source": [
    "# Evaluate the accuracy of the model using r2_score\n",
    "from sklearn.metrics import r2_score\n",
    "r2_score(y_test, y_pred)"
   ],
   "metadata": {
    "collapsed": false,
    "pycharm": {
     "name": "#%%\n"
    }
   }
  },
  {
   "cell_type": "markdown",
   "source": [
    "#### Final performance evaluation"
   ],
   "metadata": {
    "collapsed": false,
    "pycharm": {
     "name": "#%% md\n"
    }
   }
  },
  {
   "cell_type": "code",
   "execution_count": 218,
   "outputs": [
    {
     "data": {
      "text/plain": "      Actual Price  Predicted value  Margin of error\n248      10.490274        10.716513        -0.226239\n555       9.387207         9.741953        -0.354746\n1250      9.964522         9.740642         0.223880\n547      10.111883        10.172467        -0.060584\n885      11.470547        11.224336         0.246211\n761      11.503355        11.515631        -0.012276\n333      10.082584        10.108035        -0.025451\n733      10.301710        10.611197        -0.309487\n653      11.058781        11.094060        -0.035279\n1197      9.581363         9.747260        -0.165896\n824      11.511925        11.151492         0.360433\n994      10.765658        10.838851        -0.073193\n757      11.328643        11.528133        -0.199490\n715      10.729081        10.891468        -0.162388\n707      11.501201        11.553625        -0.052424\n235      10.776844        11.052702        -0.275858\n477      11.193738        11.020764         0.172974\n1102      9.317895         9.764504        -0.446609\n738      11.622622        11.490785         0.131837\n840      11.470547        11.503468        -0.032921",
      "text/html": "<div>\n<style scoped>\n    .dataframe tbody tr th:only-of-type {\n        vertical-align: middle;\n    }\n\n    .dataframe tbody tr th {\n        vertical-align: top;\n    }\n\n    .dataframe thead th {\n        text-align: right;\n    }\n</style>\n<table border=\"1\" class=\"dataframe\">\n  <thead>\n    <tr style=\"text-align: right;\">\n      <th></th>\n      <th>Actual Price</th>\n      <th>Predicted value</th>\n      <th>Margin of error</th>\n    </tr>\n  </thead>\n  <tbody>\n    <tr>\n      <th>248</th>\n      <td>10.490274</td>\n      <td>10.716513</td>\n      <td>-0.226239</td>\n    </tr>\n    <tr>\n      <th>555</th>\n      <td>9.387207</td>\n      <td>9.741953</td>\n      <td>-0.354746</td>\n    </tr>\n    <tr>\n      <th>1250</th>\n      <td>9.964522</td>\n      <td>9.740642</td>\n      <td>0.223880</td>\n    </tr>\n    <tr>\n      <th>547</th>\n      <td>10.111883</td>\n      <td>10.172467</td>\n      <td>-0.060584</td>\n    </tr>\n    <tr>\n      <th>885</th>\n      <td>11.470547</td>\n      <td>11.224336</td>\n      <td>0.246211</td>\n    </tr>\n    <tr>\n      <th>761</th>\n      <td>11.503355</td>\n      <td>11.515631</td>\n      <td>-0.012276</td>\n    </tr>\n    <tr>\n      <th>333</th>\n      <td>10.082584</td>\n      <td>10.108035</td>\n      <td>-0.025451</td>\n    </tr>\n    <tr>\n      <th>733</th>\n      <td>10.301710</td>\n      <td>10.611197</td>\n      <td>-0.309487</td>\n    </tr>\n    <tr>\n      <th>653</th>\n      <td>11.058781</td>\n      <td>11.094060</td>\n      <td>-0.035279</td>\n    </tr>\n    <tr>\n      <th>1197</th>\n      <td>9.581363</td>\n      <td>9.747260</td>\n      <td>-0.165896</td>\n    </tr>\n    <tr>\n      <th>824</th>\n      <td>11.511925</td>\n      <td>11.151492</td>\n      <td>0.360433</td>\n    </tr>\n    <tr>\n      <th>994</th>\n      <td>10.765658</td>\n      <td>10.838851</td>\n      <td>-0.073193</td>\n    </tr>\n    <tr>\n      <th>757</th>\n      <td>11.328643</td>\n      <td>11.528133</td>\n      <td>-0.199490</td>\n    </tr>\n    <tr>\n      <th>715</th>\n      <td>10.729081</td>\n      <td>10.891468</td>\n      <td>-0.162388</td>\n    </tr>\n    <tr>\n      <th>707</th>\n      <td>11.501201</td>\n      <td>11.553625</td>\n      <td>-0.052424</td>\n    </tr>\n    <tr>\n      <th>235</th>\n      <td>10.776844</td>\n      <td>11.052702</td>\n      <td>-0.275858</td>\n    </tr>\n    <tr>\n      <th>477</th>\n      <td>11.193738</td>\n      <td>11.020764</td>\n      <td>0.172974</td>\n    </tr>\n    <tr>\n      <th>1102</th>\n      <td>9.317895</td>\n      <td>9.764504</td>\n      <td>-0.446609</td>\n    </tr>\n    <tr>\n      <th>738</th>\n      <td>11.622622</td>\n      <td>11.490785</td>\n      <td>0.131837</td>\n    </tr>\n    <tr>\n      <th>840</th>\n      <td>11.470547</td>\n      <td>11.503468</td>\n      <td>-0.032921</td>\n    </tr>\n  </tbody>\n</table>\n</div>"
     },
     "execution_count": 218,
     "metadata": {},
     "output_type": "execute_result"
    }
   ],
   "source": [
    "# Evaluate the margin of error.\n",
    "df_py = pd.DataFrame({'Actual Price': y_test, 'Predicted value': y_pred, 'Margin of error': y_test-y_pred})\n",
    "df_py[0:20]"
   ],
   "metadata": {
    "collapsed": false,
    "pycharm": {
     "name": "#%%\n"
    }
   }
  },
  {
   "cell_type": "markdown",
   "source": [
    "#### Get the Absolute Error and Accuracy By comapring Accual Result and Predicted Result"
   ],
   "metadata": {
    "collapsed": false,
    "pycharm": {
     "name": "#%% md\n"
    }
   }
  },
  {
   "cell_type": "code",
   "execution_count": 219,
   "outputs": [
    {
     "name": "stdout",
     "output_type": "stream",
     "text": [
      "Mean Absolute Error: 0.15 degrees.\n",
      "Accuracy: 98.57 %.\n"
     ]
    }
   ],
   "source": [
    "# Calculate the absolute errors\n",
    "errors = abs(y_pred - y_test)\n",
    "# Print out the mean absolute error (mae)\n",
    "print('Mean Absolute Error:', round(np.mean(errors), 2), 'degrees.')\n",
    "\n",
    "# Calculate mean absolute percentage error (MAPE)\n",
    "mape = 100 * (errors / y_test)\n",
    "# Calculate and display accuracy\n",
    "accuracy = 100 - np.mean(mape)\n",
    "print('Accuracy:', round(accuracy, 2), '%.')"
   ],
   "metadata": {
    "collapsed": false,
    "pycharm": {
     "name": "#%%\n"
    }
   }
  },
  {
   "cell_type": "markdown",
   "source": [
    "#### Difference between the actual and the predicted value."
   ],
   "metadata": {
    "collapsed": false,
    "pycharm": {
     "name": "#%% md\n"
    }
   }
  },
  {
   "cell_type": "code",
   "execution_count": 220,
   "outputs": [
    {
     "name": "stderr",
     "output_type": "stream",
     "text": [
      "C:\\Users\\salitha\\anaconda3\\lib\\site-packages\\seaborn\\distributions.py:2619: FutureWarning: `distplot` is a deprecated function and will be removed in a future version. Please adapt your code to use either `displot` (a figure-level function with similar flexibility) or `kdeplot` (an axes-level function for kernel density plots).\n",
      "  warnings.warn(msg, FutureWarning)\n",
      "C:\\Users\\salitha\\anaconda3\\lib\\site-packages\\seaborn\\distributions.py:2619: FutureWarning: `distplot` is a deprecated function and will be removed in a future version. Please adapt your code to use either `displot` (a figure-level function with similar flexibility) or `kdeplot` (an axes-level function for kernel density plots).\n",
      "  warnings.warn(msg, FutureWarning)\n"
     ]
    },
    {
     "data": {
      "text/plain": "<Figure size 360x504 with 1 Axes>",
      "image/png": "[encoded data removed]"
     },
     "metadata": {},
     "output_type": "display_data"
    }
   ],
   "source": [
    "import seaborn as sns\n",
    "plt.figure(figsize=(5, 7))\n",
    "\n",
    "\n",
    "ax = sns.distplot(testing, hist=False, color=\"r\", label=\"Actual Value\")\n",
    "sns.distplot(y_pred, hist=False, color=\"b\", label=\"Fitted Values\" , ax=ax)\n",
    "\n",
    "\n",
    "plt.title('Actual vs Fitted Values for Price')\n",
    "\n",
    "\n",
    "plt.show()\n",
    "plt.close()"
   ],
   "metadata": {
    "collapsed": false,
    "pycharm": {
     "name": "#%%\n"
    }
   }
  }
 ]
}